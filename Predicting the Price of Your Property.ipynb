{
 "cells": [
  {
   "cell_type": "markdown",
   "id": "WzH01-tYCUGd",
   "metadata": {
    "id": "WzH01-tYCUGd"
   },
   "source": [
    "# Now, let's use our Random Forest Model to `Predict Harper's Apartment Listing Price`"
   ]
  },
  {
   "cell_type": "code",
   "execution_count": 14,
   "id": "VislGgmT3lM4",
   "metadata": {
    "colab": {
     "base_uri": "https://localhost:8080/"
    },
    "id": "VislGgmT3lM4",
    "outputId": "7a56c38e-22e3-4c8d-ea5f-3d7f95ffb09f"
   },
   "outputs": [
    {
     "name": "stdout",
     "output_type": "stream",
     "text": [
      "Collecting forestci\n",
      "  Downloading forestci-0.6-py3-none-any.whl (12 kB)\n",
      "Requirement already satisfied: numpy>=1.20 in /usr/local/lib/python3.10/dist-packages (from forestci) (1.23.5)\n",
      "Requirement already satisfied: scikit-learn>=0.23.1 in /usr/local/lib/python3.10/dist-packages (from forestci) (1.2.2)\n",
      "Requirement already satisfied: scipy>=1.3.2 in /usr/local/lib/python3.10/dist-packages (from scikit-learn>=0.23.1->forestci) (1.11.4)\n",
      "Requirement already satisfied: joblib>=1.1.1 in /usr/local/lib/python3.10/dist-packages (from scikit-learn>=0.23.1->forestci) (1.3.2)\n",
      "Requirement already satisfied: threadpoolctl>=2.0.0 in /usr/local/lib/python3.10/dist-packages (from scikit-learn>=0.23.1->forestci) (3.2.0)\n",
      "Installing collected packages: forestci\n",
      "Successfully installed forestci-0.6\n"
     ]
    }
   ],
   "source": [
    "!pip install forestci"
   ]
  },
  {
   "cell_type": "markdown",
   "id": "e93c4e3e",
   "metadata": {},
   "source": [
    "## Entering Harper's Property Information and Predicting the Price of One Night: "
   ]
  },
  {
   "cell_type": "code",
   "execution_count": 15,
   "id": "z9pCwz998RHQ",
   "metadata": {
    "colab": {
     "base_uri": "https://localhost:8080/"
    },
    "id": "z9pCwz998RHQ",
    "outputId": "641cbd1c-27c2-432f-a448-84931798da1c"
   },
   "outputs": [
    {
     "data": {
      "text/plain": [
       "5.9587921667649"
      ]
     },
     "execution_count": 15,
     "metadata": {},
     "output_type": "execute_result"
    }
   ],
   "source": [
    "my_house = pd.DataFrame(columns = X_test.columns)\n",
    "my_house.loc[len(my_house)] = 0\n",
    "my_house['latitude'] = 40.7140890610426\n",
    "my_house['longitude'] = -74.00906863228428\n",
    "my_house['calculated_host_listings_count'] = 1\n",
    "my_house['availability_365'] = 210\n",
    "my_house['nearby_subway_line_counts'] = 12\n",
    "my_house['Manhattan'] = 1\n",
    "my_house['Tribeca'] = 1\n",
    "my_house['Entire home/apt'] = 1\n",
    "my_house\n",
    "my_house_prediction = RF_airbnb.predict(my_house)[0]\n",
    "my_house_prediction"
   ]
  },
  {
   "cell_type": "markdown",
   "id": "24f9bb43",
   "metadata": {},
   "source": [
    "### Now, let's convert the log_price prediction to display the acutal dollar amount: "
   ]
  },
  {
   "cell_type": "code",
   "execution_count": 1,
   "id": "9b3e2768",
   "metadata": {},
   "outputs": [],
   "source": [
    "import math"
   ]
  },
  {
   "cell_type": "code",
   "execution_count": 3,
   "id": "5f263443",
   "metadata": {},
   "outputs": [
    {
     "name": "stdout",
     "output_type": "stream",
     "text": [
      "The normal price is approximately: 387.14\n"
     ]
    }
   ],
   "source": [
    "normal_price = math.exp(my_house_prediction)\n",
    "\n",
    "print(f\"The normal price is approximately: {normal_price:.2f}\")"
   ]
  },
  {
   "cell_type": "markdown",
   "id": "cade8690",
   "metadata": {},
   "source": [
    "### We get a baseline log_price prediction of `5.959`, which is approximately `387 dollars` per night. But how confident is this prediction?\n",
    "\n",
    "### In order to check, we have to bootstrap our model as follows: "
   ]
  },
  {
   "cell_type": "code",
   "execution_count": 16,
   "id": "8SQ64jqGvmpC",
   "metadata": {
    "id": "8SQ64jqGvmpC"
   },
   "outputs": [],
   "source": [
    "#I am adding my house X values to the X_test dataframe\n",
    "X_test.loc[len(X_test)] = my_house.loc[0]"
   ]
  },
  {
   "cell_type": "code",
   "execution_count": 20,
   "id": "uX0gq3d33tSD",
   "metadata": {
    "id": "uX0gq3d33tSD"
   },
   "outputs": [],
   "source": [
    "import forestci as fci\n",
    "import warnings\n",
    "warnings.filterwarnings('ignore')\n",
    "#forest SCI is a publicly available package that does exactly what we want\n",
    "errors = fci.random_forest_error(RF_airbnb, X_train, X_test)"
   ]
  },
  {
   "cell_type": "code",
   "execution_count": 22,
   "id": "5GoIhXyu5msL",
   "metadata": {
    "colab": {
     "base_uri": "https://localhost:8080/"
    },
    "id": "5GoIhXyu5msL",
    "outputId": "efbce7dc-b332-4dab-eee6-7aa72609875a"
   },
   "outputs": [
    {
     "name": "stdout",
     "output_type": "stream",
     "text": [
      "95% Confidence Interval for Log Price of My House Listing:\n",
      "2.5% 5.6627519401\n",
      "50% 5.9587921668\n",
      "97.5% 6.2548323934\n",
      "\n",
      "95% Confidence Interval for Price of Test Listings:\n",
      "2.5% 287.9399467446\n",
      "50% 387.1422384683\n",
      "97.5% 520.5221244942\n"
     ]
    }
   ],
   "source": [
    "log_mh_min = my_house_prediction - errors[-1]\n",
    "log_mh_max = my_house_prediction + errors[-1]\n",
    "print(\"95% Confidence Interval for Log Price of My House Listing:\")\n",
    "print(\"2.5%\", round(log_mh_min, 10))\n",
    "print(\"50%\", round(my_house_prediction, 10))\n",
    "print(\"97.5%\", round(log_mh_max, 10))\n",
    "\n",
    "print()\n",
    "mh_min = np.e**(log_mh_min)\n",
    "mh_max = np.e**(log_mh_max)\n",
    "print(\"95% Confidence Interval for Price of Test Listings:\")\n",
    "print(\"2.5%\", round(mh_min, 10))\n",
    "print(\"50%\", round(np.e**my_house_prediction, 10))\n",
    "print(\"97.5%\", round(mh_max, 10))"
   ]
  },
  {
   "cell_type": "markdown",
   "id": "3e16e3f6",
   "metadata": {},
   "source": [
    "### So, using our Random Forest model, we are 95% confident that the true price of Harper's listing will lie between `[$288 - $520]` based on our predictions. This range is relatively large, possibly due to the fact that Harper's listing is in a nice neighborhood - Tribeca - where there are fewer samples at this price point. "
   ]
  },
  {
   "cell_type": "markdown",
   "id": "c3df7613",
   "metadata": {},
   "source": [
    "### Now you can use this notebook to understand how much you should charge per night for `YOUR` property! "
   ]
  }
 ],
 "metadata": {
  "colab": {
   "provenance": []
  },
  "kernelspec": {
   "display_name": "Python 3 (ipykernel)",
   "language": "python",
   "name": "python3"
  },
  "language_info": {
   "codemirror_mode": {
    "name": "ipython",
    "version": 3
   },
   "file_extension": ".py",
   "mimetype": "text/x-python",
   "name": "python",
   "nbconvert_exporter": "python",
   "pygments_lexer": "ipython3",
   "version": "3.9.12"
  }
 },
 "nbformat": 4,
 "nbformat_minor": 5
}
