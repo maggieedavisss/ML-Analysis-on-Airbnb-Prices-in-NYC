{
 "cells": [
  {
   "cell_type": "markdown",
   "id": "dbcd8162",
   "metadata": {},
   "source": [
    "# Random Forest"
   ]
  },
  {
   "cell_type": "code",
   "execution_count": 156,
   "id": "f858792c",
   "metadata": {
    "id": "f858792c"
   },
   "outputs": [],
   "source": [
    "from sklearn.ensemble import RandomForestRegressor as RF"
   ]
  },
  {
   "cell_type": "code",
   "execution_count": 157,
   "id": "0f383441",
   "metadata": {},
   "outputs": [],
   "source": [
    "(X_train, X_test, y_train, y_test) = skm.train_test_split(data.drop(['log_price','price'], axis=1),\n",
    "                                                          data['log_price'],\n",
    "                                                          test_size=0.2,\n",
    "                                                          random_state=0)"
   ]
  },
  {
   "cell_type": "code",
   "execution_count": 163,
   "id": "f9c192b7",
   "metadata": {
    "colab": {
     "base_uri": "https://localhost:8080/"
    },
    "id": "f9c192b7",
    "outputId": "3f792fa5-8748-4a64-8ddd-a44c602274e2"
   },
   "outputs": [
    {
     "data": {
      "text/plain": [
       "0.19035830548538796"
      ]
     },
     "execution_count": 163,
     "metadata": {},
     "output_type": "execute_result"
    }
   ],
   "source": [
    "RF_airbnb = RF(max_features = 4, n_estimators = 500, random_state=0).fit(X_train, y_train)\n",
    "y_hat_RF = RF_airbnb.predict(X_test)\n",
    "np.mean((y_test - y_hat_RF)**2)"
   ]
  },
  {
   "cell_type": "code",
   "execution_count": 164,
   "id": "28222769",
   "metadata": {
    "colab": {
     "base_uri": "https://localhost:8080/"
    },
    "id": "28222769",
    "outputId": "af4c14b7-c4cd-4ce9-bc1b-e38238227d92"
   },
   "outputs": [
    {
     "data": {
      "text/plain": [
       "0.025134148085959863"
      ]
     },
     "execution_count": 164,
     "metadata": {},
     "output_type": "execute_result"
    }
   ],
   "source": [
    "y_hat_RF = RF_airbnb.predict(X_train)\n",
    "np.mean((y_train - y_hat_RF)**2)"
   ]
  },
  {
   "cell_type": "code",
   "execution_count": 165,
   "id": "d882c917",
   "metadata": {},
   "outputs": [
    {
     "name": "stdout",
     "output_type": "stream",
     "text": [
      "Most Important Features:\n",
      "                                importance\n",
      "Entire home/apt                   0.141702\n",
      "Private room                      0.113006\n",
      "longitude                         0.101782\n",
      "latitude                          0.082503\n",
      "host_id                           0.059872\n",
      "id                                0.059746\n",
      "reviews_per_month                 0.058205\n",
      "availability_365                  0.053296\n",
      "nearby_subway_line_counts         0.052294\n",
      "minimum_nights                    0.041821\n",
      "number_of_reviews                 0.041740\n",
      "calculated_host_listings_count    0.031243\n",
      "Manhattan                         0.023289\n",
      "Shared room                       0.016256\n",
      "Midtown                           0.009087\n"
     ]
    }
   ],
   "source": [
    "feature_imp = pd.DataFrame({'importance': RF_airbnb.feature_importances_}, index=feature_names)\n",
    "feature_imp_sorted = feature_imp.sort_values(by='importance', ascending=False)\n",
    "top_15_features = feature_imp_sorted.head(15)\n",
    "print(\"Most Important Features:\")\n",
    "print(top_15_features)"
   ]
  },
  {
   "cell_type": "code",
   "execution_count": 166,
   "id": "00f722d4",
   "metadata": {},
   "outputs": [
    {
     "data": {
      "image/png": "[encoded data removed]",
      "text/plain": [
       "<Figure size 720x576 with 1 Axes>"
      ]
     },
     "metadata": {
      "needs_background": "light"
     },
     "output_type": "display_data"
    }
   ],
   "source": [
    "import matplotlib.pyplot as plt\n",
    "feature_imp_sorted = feature_imp_sorted[::-1]\n",
    "top_15_features = feature_imp_sorted.tail(15)\n",
    "plt.figure(figsize=(10, 8))\n",
    "plt.barh(top_15_features.index, top_15_features['importance'])\n",
    "plt.xlabel('Feature Importance')\n",
    "plt.ylabel('Features')\n",
    "plt.title('Most Important Features')\n",
    "plt.show()"
   ]
  }
 ],
 "metadata": {
  "colab": {
   "provenance": []
  },
  "kernelspec": {
   "display_name": "Python 3 (ipykernel)",
   "language": "python",
   "name": "python3"
  },
  "language_info": {
   "codemirror_mode": {
    "name": "ipython",
    "version": 3
   },
   "file_extension": ".py",
   "mimetype": "text/x-python",
   "name": "python",
   "nbconvert_exporter": "python",
   "pygments_lexer": "ipython3",
   "version": "3.9.12"
  }
 },
 "nbformat": 4,
 "nbformat_minor": 5
}
