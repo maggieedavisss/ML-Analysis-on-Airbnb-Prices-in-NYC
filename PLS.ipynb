{
 "cells": [
  {
   "cell_type": "markdown",
   "id": "c3d917cd",
   "metadata": {},
   "source": [
    "# PLS"
   ]
  },
  {
   "cell_type": "code",
   "execution_count": 95,
   "id": "24c86829",
   "metadata": {},
   "outputs": [
    {
     "name": "stdout",
     "output_type": "stream",
     "text": [
      "1\n",
      "Training MSE: 0.2599696891191325\n",
      "Test MSE: 0.2671640974993032\n",
      "\n",
      "2\n",
      "Training MSE: 0.2274670472260308\n",
      "Test MSE: 0.2345232621326887\n",
      "\n",
      "3\n",
      "Training MSE: 0.22256158186588948\n",
      "Test MSE: 0.22992773150623444\n",
      "\n",
      "4\n",
      "Training MSE: 0.2213965426659234\n",
      "Test MSE: 0.22868326080057225\n",
      "\n",
      "5\n",
      "Training MSE: 0.2210154368244136\n",
      "Test MSE: 0.228083675295849\n",
      "\n",
      "6\n",
      "Training MSE: 0.22089147765853054\n",
      "Test MSE: 0.22782272528546899\n",
      "\n",
      "7\n",
      "Training MSE: 0.22076180909438073\n",
      "Test MSE: 0.22772336174678487\n",
      "\n",
      "8\n",
      "Training MSE: 0.22069434447145037\n",
      "Test MSE: 0.22782447074511067\n",
      "\n",
      "9\n",
      "Training MSE: 0.22065635003447684\n",
      "Test MSE: 0.22788910859253642\n",
      "\n",
      "10\n",
      "Training MSE: 0.22060879861715046\n",
      "Test MSE: 0.2278235276626328\n",
      "\n",
      "11\n",
      "Training MSE: 0.22051544213283825\n",
      "Test MSE: 0.22753495560233536\n",
      "\n",
      "12\n",
      "Training MSE: 0.22033217114685033\n",
      "Test MSE: 0.22754485856117324\n",
      "\n",
      "13\n",
      "Training MSE: 0.22026412586839464\n",
      "Test MSE: 0.22756132422681283\n",
      "\n",
      "14\n",
      "Training MSE: 0.22025839269704597\n",
      "Test MSE: 0.2275459411665261\n",
      "\n",
      "15\n",
      "Training MSE: 0.2202579108181394\n",
      "Test MSE: 0.2275454998632868\n",
      "\n",
      "16\n",
      "Training MSE: 0.22025768885686822\n",
      "Test MSE: 0.2275491930324897\n",
      "\n",
      "17\n",
      "Training MSE: 0.22025761134117422\n",
      "Test MSE: 0.22755021642228979\n",
      "\n",
      "18\n",
      "Training MSE: 0.22025759250503432\n",
      "Test MSE: 0.22754997470413504\n",
      "\n",
      "19\n",
      "Training MSE: 0.220257571557837\n",
      "Test MSE: 0.22754841975218945\n",
      "\n",
      "20\n",
      "Training MSE: 0.2202574989030983\n",
      "Test MSE: 0.2275468957888698\n",
      "\n",
      "21\n",
      "Training MSE: 0.2202572300570224\n",
      "Test MSE: 0.22754517281579914\n",
      "\n",
      "22\n",
      "Training MSE: 0.2202572129745397\n",
      "Test MSE: 0.22754295023596358\n",
      "\n",
      "23\n",
      "Training MSE: 0.22025721284389502\n",
      "Test MSE: 0.2275428380060694\n",
      "\n",
      "24\n",
      "Training MSE: 0.2202572128427649\n",
      "Test MSE: 0.2275428553978054\n",
      "\n"
     ]
    }
   ],
   "source": [
    "from sklearn.cross_decomposition import PLSRegression\n",
    "from sklearn.metrics import mean_squared_error\n",
    "import sklearn.model_selection as skm\n",
    "from sklearn.model_selection import train_test_split\n",
    "import matplotlib.pyplot as plt\n",
    "\n",
    "\n",
    "(X_train, X_test, y_train, y_test) = skm.train_test_split(data.drop(['log_price','price'], axis=1),\n",
    "                                                          data['log_price'],\n",
    "                                                          test_size=0.2,\n",
    "                                                          random_state=0)\n",
    "feature_names = X_train.columns\n",
    "\n",
    "PLS_mat = pd.DataFrame(columns = ['num_components', 'train_mse', 'test_mse'])\n",
    "for n_components in range(1, 25):\n",
    "    print(n_components)\n",
    "    pls = PLSRegression(n_components=n_components, scale=True)\n",
    "    pls.fit(X_train, y_train)\n",
    "\n",
    "    y_train_pred = pls.predict(X_train)\n",
    "\n",
    "    train_mse = mean_squared_error(y_train, y_train_pred)\n",
    "    print(\"Training MSE:\", train_mse)\n",
    "\n",
    "    y_test_pred = pls.predict(X_test)\n",
    "\n",
    "    test_mse = mean_squared_error(y_test, y_test_pred)\n",
    "    print(\"Test MSE:\", test_mse)\n",
    "    PLS_mat.loc[len(PLS_mat.index)] = [n_components, train_mse, test_mse]\n",
    "    print()"
   ]
  },
  {
   "cell_type": "code",
   "execution_count": 99,
   "id": "1bf2b471",
   "metadata": {},
   "outputs": [
    {
     "data": {
      "text/html": [
       "<div>\n",
       "<style scoped>\n",
       "    .dataframe tbody tr th:only-of-type {\n",
       "        vertical-align: middle;\n",
       "    }\n",
       "\n",
       "    .dataframe tbody tr th {\n",
       "        vertical-align: top;\n",
       "    }\n",
       "\n",
       "    .dataframe thead th {\n",
       "        text-align: right;\n",
       "    }\n",
       "</style>\n",
       "<table border=\"1\" class=\"dataframe\">\n",
       "  <thead>\n",
       "    <tr style=\"text-align: right;\">\n",
       "      <th></th>\n",
       "      <th>num_components</th>\n",
       "      <th>train_mse</th>\n",
       "      <th>test_mse</th>\n",
       "    </tr>\n",
       "  </thead>\n",
       "  <tbody>\n",
       "    <tr>\n",
       "      <th>10</th>\n",
       "      <td>11.0</td>\n",
       "      <td>0.220515</td>\n",
       "      <td>0.227535</td>\n",
       "    </tr>\n",
       "  </tbody>\n",
       "</table>\n",
       "</div>"
      ],
      "text/plain": [
       "    num_components  train_mse  test_mse\n",
       "10            11.0   0.220515  0.227535"
      ]
     },
     "execution_count": 99,
     "metadata": {},
     "output_type": "execute_result"
    }
   ],
   "source": [
    "PLS_mat[PLS_mat.test_mse == min(PLS_mat.test_mse)]"
   ]
  },
  {
   "cell_type": "code",
   "execution_count": 97,
   "id": "0f6d5ce2",
   "metadata": {},
   "outputs": [
    {
     "data": {
      "image/png": "[encoded data removed]",
      "text/plain": [
       "<Figure size 432x288 with 1 Axes>"
      ]
     },
     "metadata": {
      "needs_background": "light"
     },
     "output_type": "display_data"
    }
   ],
   "source": [
    "import matplotlib.pyplot as plt\n",
    "\n",
    "plt.plot(PLS_mat.num_components, PLS_mat.test_mse, marker='o', linestyle='-')\n",
    "\n",
    "min_mse = min(PLS_mat.test_mse)\n",
    "min_components = PLS_mat.loc[PLS_mat.test_mse == min_mse, 'num_components'].values[0]\n",
    "\n",
    "plt.axvline(x=min_components, color='red', linestyle='--', label=f'Min MSE: {min_mse:.2f}')\n",
    "\n",
    "plt.xlabel('Number of Components')\n",
    "plt.ylabel('Test MSE')\n",
    "plt.title('Number of Components vs. Test MSE')\n",
    "plt.legend()\n",
    "\n",
    "plt.show()"
   ]
  }
 ],
 "metadata": {
  "colab": {
   "provenance": []
  },
  "kernelspec": {
   "display_name": "Python 3 (ipykernel)",
   "language": "python",
   "name": "python3"
  },
  "language_info": {
   "codemirror_mode": {
    "name": "ipython",
    "version": 3
   },
   "file_extension": ".py",
   "mimetype": "text/x-python",
   "name": "python",
   "nbconvert_exporter": "python",
   "pygments_lexer": "ipython3",
   "version": "3.9.12"
  }
 },
 "nbformat": 4,
 "nbformat_minor": 5
}
